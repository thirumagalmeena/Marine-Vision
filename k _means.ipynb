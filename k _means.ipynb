{
 "cells": [
  {
   "cell_type": "code",
   "execution_count": null,
   "id": "027b99dd",
   "metadata": {},
   "outputs": [],
   "source": [
    "import os\n",
    "import numpy as np\n",
    "from tensorflow.keras.preprocessing.image import ImageDataGenerator\n",
    "from tensorflow.keras.applications import VGG16\n",
    "from tensorflow.keras.models import Model\n",
    "from tqdm import tqdm\n",
    "import numpy as np\n",
    "from math import comb\n",
    "import numpy as np\n",
    "from scipy.spatial.distance import cdist\n",
    "import matplotlib.pyplot as plt"
   ]
  },
  {
   "cell_type": "code",
   "execution_count": 2,
   "id": "355d9fba",
   "metadata": {},
   "outputs": [],
   "source": [
    "# Define dataset directories\n",
    "base_dir = r\"E:\\marine-animals-dataset\\versions\\1\"\n",
    "\n",
    "train_dir = os.path.join(base_dir, 'train')\n",
    "valid_dir = os.path.join(base_dir, 'valid')\n",
    "test_dir = os.path.join(base_dir, 'test')"
   ]
  },
  {
   "cell_type": "code",
   "execution_count": 3,
   "id": "12702568",
   "metadata": {},
   "outputs": [
    {
     "name": "stdout",
     "output_type": "stream",
     "text": [
      "Found 1241 images belonging to 5 classes.\n",
      "Found 250 images belonging to 5 classes.\n",
      "Found 100 images belonging to 5 classes.\n"
     ]
    }
   ],
   "source": [
    "# Image preprocessing and augmentation\n",
    "train_datagen = ImageDataGenerator(\n",
    "    rescale=1.0/255.0,\n",
    "    horizontal_flip=True,\n",
    "    rotation_range=10,\n",
    "    zoom_range=0.2,\n",
    "    width_shift_range=0.2,\n",
    "    height_shift_range=0.2\n",
    ")\n",
    "valid_datagen = ImageDataGenerator(rescale=1.0/255.0)\n",
    "test_datagen = ImageDataGenerator(rescale=1.0/255.0)\n",
    "\n",
    "# Load images from directories\n",
    "train_generator = train_datagen.flow_from_directory(\n",
    "    train_dir,\n",
    "    target_size=(224, 224),\n",
    "    batch_size=32,\n",
    "    class_mode='categorical'\n",
    ")\n",
    "valid_generator = valid_datagen.flow_from_directory(\n",
    "    valid_dir,\n",
    "    target_size=(224, 224),\n",
    "    batch_size=32,\n",
    "    class_mode='categorical'\n",
    ")\n",
    "test_generator = test_datagen.flow_from_directory(\n",
    "    test_dir,\n",
    "    target_size=(224, 224),\n",
    "    batch_size=32,\n",
    "    class_mode='categorical',\n",
    "    shuffle=False\n",
    ")"
   ]
  },
  {
   "cell_type": "code",
   "execution_count": 4,
   "id": "2c91975c",
   "metadata": {},
   "outputs": [
    {
     "name": "stdout",
     "output_type": "stream",
     "text": [
      "Class indices: {'Dolphin': 0, 'Fish': 1, 'Lobster': 2, 'Octopus': 3, 'Sea Horse': 4}\n"
     ]
    }
   ],
   "source": [
    "# Print class indices\n",
    "class_indices = train_generator.class_indices\n",
    "print(\"Class indices:\", class_indices)\n",
    "\n",
    "# Load VGG16 model without top layers for feature extraction\n",
    "vgg16_base = VGG16(weights=\"imagenet\", include_top=False, input_shape=(224, 224, 3))\n",
    "model = Model(inputs=vgg16_base.input, outputs=vgg16_base.get_layer(\"block5_pool\").output)"
   ]
  },
  {
   "cell_type": "code",
   "execution_count": 5,
   "id": "87b9211a-10f1-4dd2-854b-49576256db78",
   "metadata": {},
   "outputs": [],
   "source": [
    "# Feature extraction with Global Average Pooling (GAP)\n",
    "def extract_features_with_gap(generator, model):\n",
    "    features = []\n",
    "    labels = []\n",
    "    for inputs_batch, labels_batch in tqdm(generator, desc=\"Extracting Features\"):\n",
    "        batch_features = model.predict(inputs_batch)\n",
    "        batch_features = np.mean(batch_features, axis=(1, 2))  # Global Average Pooling\n",
    "        features.append(batch_features)\n",
    "        labels.append(labels_batch)\n",
    "        if len(features) >= len(generator):  # Stop after one epoch\n",
    "            break\n",
    "    return np.vstack(features), np.vstack(labels)"
   ]
  },
  {
   "cell_type": "code",
   "execution_count": 6,
   "id": "77284be7",
   "metadata": {},
   "outputs": [
    {
     "name": "stderr",
     "output_type": "stream",
     "text": [
      "Extracting Features:   0%|                                                                               | 0/39 [00:00<?, ?it/s]"
     ]
    },
    {
     "name": "stdout",
     "output_type": "stream",
     "text": [
      "\u001b[1m1/1\u001b[0m \u001b[32m━━━━━━━━━━━━━━━━━━━━\u001b[0m\u001b[37m\u001b[0m \u001b[1m2s\u001b[0m 2s/step\n"
     ]
    },
    {
     "name": "stderr",
     "output_type": "stream",
     "text": [
      "Extracting Features:   3%|█▊                                                                     | 1/39 [00:03<02:05,  3.30s/it]"
     ]
    },
    {
     "name": "stdout",
     "output_type": "stream",
     "text": [
      "\u001b[1m1/1\u001b[0m \u001b[32m━━━━━━━━━━━━━━━━━━━━\u001b[0m\u001b[37m\u001b[0m \u001b[1m2s\u001b[0m 2s/step\n"
     ]
    },
    {
     "name": "stderr",
     "output_type": "stream",
     "text": [
      "Extracting Features:   5%|███▋                                                                   | 2/39 [00:05<01:46,  2.88s/it]"
     ]
    },
    {
     "name": "stdout",
     "output_type": "stream",
     "text": [
      "\u001b[1m1/1\u001b[0m \u001b[32m━━━━━━━━━━━━━━━━━━━━\u001b[0m\u001b[37m\u001b[0m \u001b[1m2s\u001b[0m 2s/step\n"
     ]
    },
    {
     "name": "stderr",
     "output_type": "stream",
     "text": [
      "Extracting Features:   8%|█████▍                                                                 | 3/39 [00:08<01:39,  2.75s/it]"
     ]
    },
    {
     "name": "stdout",
     "output_type": "stream",
     "text": [
      "\u001b[1m1/1\u001b[0m \u001b[32m━━━━━━━━━━━━━━━━━━━━\u001b[0m\u001b[37m\u001b[0m \u001b[1m2s\u001b[0m 2s/step\n"
     ]
    },
    {
     "name": "stderr",
     "output_type": "stream",
     "text": [
      "Extracting Features:  10%|███████▎                                                               | 4/39 [00:11<01:33,  2.66s/it]"
     ]
    },
    {
     "name": "stdout",
     "output_type": "stream",
     "text": [
      "\u001b[1m1/1\u001b[0m \u001b[32m━━━━━━━━━━━━━━━━━━━━\u001b[0m\u001b[37m\u001b[0m \u001b[1m2s\u001b[0m 2s/step\n"
     ]
    },
    {
     "name": "stderr",
     "output_type": "stream",
     "text": [
      "Extracting Features:  13%|█████████                                                              | 5/39 [00:13<01:31,  2.70s/it]"
     ]
    },
    {
     "name": "stdout",
     "output_type": "stream",
     "text": [
      "\u001b[1m1/1\u001b[0m \u001b[32m━━━━━━━━━━━━━━━━━━━━\u001b[0m\u001b[37m\u001b[0m \u001b[1m2s\u001b[0m 2s/step\n"
     ]
    },
    {
     "name": "stderr",
     "output_type": "stream",
     "text": [
      "Extracting Features:  15%|██████████▉                                                            | 6/39 [00:16<01:27,  2.64s/it]"
     ]
    },
    {
     "name": "stdout",
     "output_type": "stream",
     "text": [
      "\u001b[1m1/1\u001b[0m \u001b[32m━━━━━━━━━━━━━━━━━━━━\u001b[0m\u001b[37m\u001b[0m \u001b[1m2s\u001b[0m 2s/step\n"
     ]
    },
    {
     "name": "stderr",
     "output_type": "stream",
     "text": [
      "Extracting Features:  18%|████████████▋                                                          | 7/39 [00:18<01:23,  2.62s/it]"
     ]
    },
    {
     "name": "stdout",
     "output_type": "stream",
     "text": [
      "\u001b[1m1/1\u001b[0m \u001b[32m━━━━━━━━━━━━━━━━━━━━\u001b[0m\u001b[37m\u001b[0m \u001b[1m2s\u001b[0m 2s/step\n"
     ]
    },
    {
     "name": "stderr",
     "output_type": "stream",
     "text": [
      "Extracting Features:  21%|██████████████▌                                                        | 8/39 [00:21<01:21,  2.62s/it]"
     ]
    },
    {
     "name": "stdout",
     "output_type": "stream",
     "text": [
      "\u001b[1m1/1\u001b[0m \u001b[32m━━━━━━━━━━━━━━━━━━━━\u001b[0m\u001b[37m\u001b[0m \u001b[1m2s\u001b[0m 2s/step\n"
     ]
    },
    {
     "name": "stderr",
     "output_type": "stream",
     "text": [
      "Extracting Features:  23%|████████████████▍                                                      | 9/39 [00:24<01:19,  2.64s/it]"
     ]
    },
    {
     "name": "stdout",
     "output_type": "stream",
     "text": [
      "\u001b[1m1/1\u001b[0m \u001b[32m━━━━━━━━━━━━━━━━━━━━\u001b[0m\u001b[37m\u001b[0m \u001b[1m2s\u001b[0m 2s/step\n"
     ]
    },
    {
     "name": "stderr",
     "output_type": "stream",
     "text": [
      "Extracting Features:  26%|█████████████████▉                                                    | 10/39 [00:26<01:14,  2.58s/it]"
     ]
    },
    {
     "name": "stdout",
     "output_type": "stream",
     "text": [
      "\u001b[1m1/1\u001b[0m \u001b[32m━━━━━━━━━━━━━━━━━━━━\u001b[0m\u001b[37m\u001b[0m \u001b[1m2s\u001b[0m 2s/step\n"
     ]
    },
    {
     "name": "stderr",
     "output_type": "stream",
     "text": [
      "Extracting Features:  28%|███████████████████▋                                                  | 11/39 [00:29<01:11,  2.57s/it]"
     ]
    },
    {
     "name": "stdout",
     "output_type": "stream",
     "text": [
      "\u001b[1m1/1\u001b[0m \u001b[32m━━━━━━━━━━━━━━━━━━━━\u001b[0m\u001b[37m\u001b[0m \u001b[1m2s\u001b[0m 2s/step\n"
     ]
    },
    {
     "name": "stderr",
     "output_type": "stream",
     "text": [
      "Extracting Features:  31%|█████████████████████▌                                                | 12/39 [00:31<01:09,  2.56s/it]"
     ]
    },
    {
     "name": "stdout",
     "output_type": "stream",
     "text": [
      "\u001b[1m1/1\u001b[0m \u001b[32m━━━━━━━━━━━━━━━━━━━━\u001b[0m\u001b[37m\u001b[0m \u001b[1m2s\u001b[0m 2s/step\n"
     ]
    },
    {
     "name": "stderr",
     "output_type": "stream",
     "text": [
      "Extracting Features:  33%|███████████████████████▎                                              | 13/39 [00:34<01:05,  2.53s/it]"
     ]
    },
    {
     "name": "stdout",
     "output_type": "stream",
     "text": [
      "\u001b[1m1/1\u001b[0m \u001b[32m━━━━━━━━━━━━━━━━━━━━\u001b[0m\u001b[37m\u001b[0m \u001b[1m2s\u001b[0m 2s/step\n"
     ]
    },
    {
     "name": "stderr",
     "output_type": "stream",
     "text": [
      "Extracting Features:  36%|█████████████████████████▏                                            | 14/39 [00:36<01:03,  2.55s/it]"
     ]
    },
    {
     "name": "stdout",
     "output_type": "stream",
     "text": [
      "\u001b[1m1/1\u001b[0m \u001b[32m━━━━━━━━━━━━━━━━━━━━\u001b[0m\u001b[37m\u001b[0m \u001b[1m2s\u001b[0m 2s/step\n"
     ]
    },
    {
     "name": "stderr",
     "output_type": "stream",
     "text": [
      "Extracting Features:  38%|██████████████████████████▉                                           | 15/39 [00:39<01:01,  2.54s/it]"
     ]
    },
    {
     "name": "stdout",
     "output_type": "stream",
     "text": [
      "\u001b[1m1/1\u001b[0m \u001b[32m━━━━━━━━━━━━━━━━━━━━\u001b[0m\u001b[37m\u001b[0m \u001b[1m2s\u001b[0m 2s/step\n"
     ]
    },
    {
     "name": "stderr",
     "output_type": "stream",
     "text": [
      "Extracting Features:  41%|████████████████████████████▋                                         | 16/39 [00:42<00:59,  2.59s/it]"
     ]
    },
    {
     "name": "stdout",
     "output_type": "stream",
     "text": [
      "\u001b[1m1/1\u001b[0m \u001b[32m━━━━━━━━━━━━━━━━━━━━\u001b[0m\u001b[37m\u001b[0m \u001b[1m2s\u001b[0m 2s/step\n"
     ]
    },
    {
     "name": "stderr",
     "output_type": "stream",
     "text": [
      "Extracting Features:  44%|██████████████████████████████▌                                       | 17/39 [00:44<00:57,  2.61s/it]"
     ]
    },
    {
     "name": "stdout",
     "output_type": "stream",
     "text": [
      "\u001b[1m1/1\u001b[0m \u001b[32m━━━━━━━━━━━━━━━━━━━━\u001b[0m\u001b[37m\u001b[0m \u001b[1m2s\u001b[0m 2s/step\n"
     ]
    },
    {
     "name": "stderr",
     "output_type": "stream",
     "text": [
      "Extracting Features:  46%|████████████████████████████████▎                                     | 18/39 [00:47<00:53,  2.55s/it]"
     ]
    },
    {
     "name": "stdout",
     "output_type": "stream",
     "text": [
      "\u001b[1m1/1\u001b[0m \u001b[32m━━━━━━━━━━━━━━━━━━━━\u001b[0m\u001b[37m\u001b[0m \u001b[1m2s\u001b[0m 2s/step\n"
     ]
    },
    {
     "name": "stderr",
     "output_type": "stream",
     "text": [
      "Extracting Features:  49%|██████████████████████████████████                                    | 19/39 [00:49<00:48,  2.44s/it]"
     ]
    },
    {
     "name": "stdout",
     "output_type": "stream",
     "text": [
      "\u001b[1m1/1\u001b[0m \u001b[32m━━━━━━━━━━━━━━━━━━━━\u001b[0m\u001b[37m\u001b[0m \u001b[1m2s\u001b[0m 2s/step\n"
     ]
    },
    {
     "name": "stderr",
     "output_type": "stream",
     "text": [
      "Extracting Features:  51%|███████████████████████████████████▉                                  | 20/39 [00:51<00:45,  2.38s/it]"
     ]
    },
    {
     "name": "stdout",
     "output_type": "stream",
     "text": [
      "\u001b[1m1/1\u001b[0m \u001b[32m━━━━━━━━━━━━━━━━━━━━\u001b[0m\u001b[37m\u001b[0m \u001b[1m2s\u001b[0m 2s/step\n"
     ]
    },
    {
     "name": "stderr",
     "output_type": "stream",
     "text": [
      "Extracting Features:  54%|█████████████████████████████████████▋                                | 21/39 [00:53<00:41,  2.32s/it]"
     ]
    },
    {
     "name": "stdout",
     "output_type": "stream",
     "text": [
      "\u001b[1m1/1\u001b[0m \u001b[32m━━━━━━━━━━━━━━━━━━━━\u001b[0m\u001b[37m\u001b[0m \u001b[1m2s\u001b[0m 2s/step\n"
     ]
    },
    {
     "name": "stderr",
     "output_type": "stream",
     "text": [
      "Extracting Features:  56%|███████████████████████████████████████▍                              | 22/39 [00:55<00:38,  2.29s/it]"
     ]
    },
    {
     "name": "stdout",
     "output_type": "stream",
     "text": [
      "\u001b[1m1/1\u001b[0m \u001b[32m━━━━━━━━━━━━━━━━━━━━\u001b[0m\u001b[37m\u001b[0m \u001b[1m2s\u001b[0m 2s/step\n"
     ]
    },
    {
     "name": "stderr",
     "output_type": "stream",
     "text": [
      "Extracting Features:  59%|█████████████████████████████████████████▎                            | 23/39 [00:58<00:35,  2.25s/it]"
     ]
    },
    {
     "name": "stdout",
     "output_type": "stream",
     "text": [
      "\u001b[1m1/1\u001b[0m \u001b[32m━━━━━━━━━━━━━━━━━━━━\u001b[0m\u001b[37m\u001b[0m \u001b[1m2s\u001b[0m 2s/step\n"
     ]
    },
    {
     "name": "stderr",
     "output_type": "stream",
     "text": [
      "Extracting Features:  62%|███████████████████████████████████████████                           | 24/39 [01:00<00:33,  2.23s/it]"
     ]
    },
    {
     "name": "stdout",
     "output_type": "stream",
     "text": [
      "\u001b[1m1/1\u001b[0m \u001b[32m━━━━━━━━━━━━━━━━━━━━\u001b[0m\u001b[37m\u001b[0m \u001b[1m2s\u001b[0m 2s/step\n"
     ]
    },
    {
     "name": "stderr",
     "output_type": "stream",
     "text": [
      "Extracting Features:  64%|████████████████████████████████████████████▊                         | 25/39 [01:02<00:30,  2.21s/it]"
     ]
    },
    {
     "name": "stdout",
     "output_type": "stream",
     "text": [
      "\u001b[1m1/1\u001b[0m \u001b[32m━━━━━━━━━━━━━━━━━━━━\u001b[0m\u001b[37m\u001b[0m \u001b[1m2s\u001b[0m 2s/step\n"
     ]
    },
    {
     "name": "stderr",
     "output_type": "stream",
     "text": [
      "Extracting Features:  67%|██████████████████████████████████████████████▋                       | 26/39 [01:04<00:29,  2.23s/it]"
     ]
    },
    {
     "name": "stdout",
     "output_type": "stream",
     "text": [
      "\u001b[1m1/1\u001b[0m \u001b[32m━━━━━━━━━━━━━━━━━━━━\u001b[0m\u001b[37m\u001b[0m \u001b[1m2s\u001b[0m 2s/step\n"
     ]
    },
    {
     "name": "stderr",
     "output_type": "stream",
     "text": [
      "Extracting Features:  69%|████████████████████████████████████████████████▍                     | 27/39 [01:06<00:26,  2.22s/it]"
     ]
    },
    {
     "name": "stdout",
     "output_type": "stream",
     "text": [
      "\u001b[1m1/1\u001b[0m \u001b[32m━━━━━━━━━━━━━━━━━━━━\u001b[0m\u001b[37m\u001b[0m \u001b[1m2s\u001b[0m 2s/step\n"
     ]
    },
    {
     "name": "stderr",
     "output_type": "stream",
     "text": [
      "Extracting Features:  72%|██████████████████████████████████████████████████▎                   | 28/39 [01:09<00:24,  2.23s/it]"
     ]
    },
    {
     "name": "stdout",
     "output_type": "stream",
     "text": [
      "\u001b[1m1/1\u001b[0m \u001b[32m━━━━━━━━━━━━━━━━━━━━\u001b[0m\u001b[37m\u001b[0m \u001b[1m2s\u001b[0m 2s/step\n"
     ]
    },
    {
     "name": "stderr",
     "output_type": "stream",
     "text": [
      "Extracting Features:  74%|████████████████████████████████████████████████████                  | 29/39 [01:11<00:22,  2.24s/it]"
     ]
    },
    {
     "name": "stdout",
     "output_type": "stream",
     "text": [
      "\u001b[1m1/1\u001b[0m \u001b[32m━━━━━━━━━━━━━━━━━━━━\u001b[0m\u001b[37m\u001b[0m \u001b[1m2s\u001b[0m 2s/step\n"
     ]
    },
    {
     "name": "stderr",
     "output_type": "stream",
     "text": [
      "Extracting Features:  77%|█████████████████████████████████████████████████████▊                | 30/39 [01:13<00:19,  2.22s/it]"
     ]
    },
    {
     "name": "stdout",
     "output_type": "stream",
     "text": [
      "\u001b[1m1/1\u001b[0m \u001b[32m━━━━━━━━━━━━━━━━━━━━\u001b[0m\u001b[37m\u001b[0m \u001b[1m2s\u001b[0m 2s/step\n"
     ]
    },
    {
     "name": "stderr",
     "output_type": "stream",
     "text": [
      "Extracting Features:  79%|███████████████████████████████████████████████████████▋              | 31/39 [01:15<00:17,  2.23s/it]"
     ]
    },
    {
     "name": "stdout",
     "output_type": "stream",
     "text": [
      "\u001b[1m1/1\u001b[0m \u001b[32m━━━━━━━━━━━━━━━━━━━━\u001b[0m\u001b[37m\u001b[0m \u001b[1m2s\u001b[0m 2s/step\n"
     ]
    },
    {
     "name": "stderr",
     "output_type": "stream",
     "text": [
      "Extracting Features:  82%|█████████████████████████████████████████████████████████▍            | 32/39 [01:17<00:15,  2.21s/it]"
     ]
    },
    {
     "name": "stdout",
     "output_type": "stream",
     "text": [
      "\u001b[1m1/1\u001b[0m \u001b[32m━━━━━━━━━━━━━━━━━━━━\u001b[0m\u001b[37m\u001b[0m \u001b[1m2s\u001b[0m 2s/step\n"
     ]
    },
    {
     "name": "stderr",
     "output_type": "stream",
     "text": [
      "Extracting Features:  85%|███████████████████████████████████████████████████████████▏          | 33/39 [01:20<00:13,  2.20s/it]"
     ]
    },
    {
     "name": "stdout",
     "output_type": "stream",
     "text": [
      "\u001b[1m1/1\u001b[0m \u001b[32m━━━━━━━━━━━━━━━━━━━━\u001b[0m\u001b[37m\u001b[0m \u001b[1m2s\u001b[0m 2s/step\n"
     ]
    },
    {
     "name": "stderr",
     "output_type": "stream",
     "text": [
      "Extracting Features:  87%|█████████████████████████████████████████████████████████████         | 34/39 [01:22<00:10,  2.20s/it]"
     ]
    },
    {
     "name": "stdout",
     "output_type": "stream",
     "text": [
      "\u001b[1m1/1\u001b[0m \u001b[32m━━━━━━━━━━━━━━━━━━━━\u001b[0m\u001b[37m\u001b[0m \u001b[1m2s\u001b[0m 2s/step\n"
     ]
    },
    {
     "name": "stderr",
     "output_type": "stream",
     "text": [
      "Extracting Features:  90%|██████████████████████████████████████████████████████████████▊       | 35/39 [01:24<00:08,  2.19s/it]"
     ]
    },
    {
     "name": "stdout",
     "output_type": "stream",
     "text": [
      "\u001b[1m1/1\u001b[0m \u001b[32m━━━━━━━━━━━━━━━━━━━━\u001b[0m\u001b[37m\u001b[0m \u001b[1m2s\u001b[0m 2s/step\n"
     ]
    },
    {
     "name": "stderr",
     "output_type": "stream",
     "text": [
      "Extracting Features:  92%|████████████████████████████████████████████████████████████████▌     | 36/39 [01:26<00:06,  2.19s/it]"
     ]
    },
    {
     "name": "stdout",
     "output_type": "stream",
     "text": [
      "\u001b[1m1/1\u001b[0m \u001b[32m━━━━━━━━━━━━━━━━━━━━\u001b[0m\u001b[37m\u001b[0m \u001b[1m2s\u001b[0m 2s/step\n"
     ]
    },
    {
     "name": "stderr",
     "output_type": "stream",
     "text": [
      "Extracting Features:  95%|██████████████████████████████████████████████████████████████████▍   | 37/39 [01:28<00:04,  2.21s/it]"
     ]
    },
    {
     "name": "stdout",
     "output_type": "stream",
     "text": [
      "\u001b[1m1/1\u001b[0m \u001b[32m━━━━━━━━━━━━━━━━━━━━\u001b[0m\u001b[37m\u001b[0m \u001b[1m2s\u001b[0m 2s/step\n"
     ]
    },
    {
     "name": "stderr",
     "output_type": "stream",
     "text": [
      "Extracting Features:  97%|████████████████████████████████████████████████████████████████████▏ | 38/39 [01:31<00:02,  2.23s/it]"
     ]
    },
    {
     "name": "stdout",
     "output_type": "stream",
     "text": [
      "\u001b[1m1/1\u001b[0m \u001b[32m━━━━━━━━━━━━━━━━━━━━\u001b[0m\u001b[37m\u001b[0m \u001b[1m1s\u001b[0m 1s/step\n"
     ]
    },
    {
     "name": "stderr",
     "output_type": "stream",
     "text": [
      "Extracting Features:  97%|████████████████████████████████████████████████████████████████████▏ | 38/39 [01:33<00:02,  2.45s/it]\n",
      "Extracting Features:   0%|                                                                                | 0/8 [00:00<?, ?it/s]"
     ]
    },
    {
     "name": "stdout",
     "output_type": "stream",
     "text": [
      "\u001b[1m1/1\u001b[0m \u001b[32m━━━━━━━━━━━━━━━━━━━━\u001b[0m\u001b[37m\u001b[0m \u001b[1m2s\u001b[0m 2s/step\n"
     ]
    },
    {
     "name": "stderr",
     "output_type": "stream",
     "text": [
      "Extracting Features:  12%|█████████                                                               | 1/8 [00:02<00:14,  2.05s/it]"
     ]
    },
    {
     "name": "stdout",
     "output_type": "stream",
     "text": [
      "\u001b[1m1/1\u001b[0m \u001b[32m━━━━━━━━━━━━━━━━━━━━\u001b[0m\u001b[37m\u001b[0m \u001b[1m2s\u001b[0m 2s/step\n"
     ]
    },
    {
     "name": "stderr",
     "output_type": "stream",
     "text": [
      "Extracting Features:  25%|██████████████████                                                      | 2/8 [00:04<00:12,  2.03s/it]"
     ]
    },
    {
     "name": "stdout",
     "output_type": "stream",
     "text": [
      "\u001b[1m1/1\u001b[0m \u001b[32m━━━━━━━━━━━━━━━━━━━━\u001b[0m\u001b[37m\u001b[0m \u001b[1m2s\u001b[0m 2s/step\n"
     ]
    },
    {
     "name": "stderr",
     "output_type": "stream",
     "text": [
      "Extracting Features:  38%|███████████████████████████                                             | 3/8 [00:06<00:10,  2.02s/it]"
     ]
    },
    {
     "name": "stdout",
     "output_type": "stream",
     "text": [
      "\u001b[1m1/1\u001b[0m \u001b[32m━━━━━━━━━━━━━━━━━━━━\u001b[0m\u001b[37m\u001b[0m \u001b[1m2s\u001b[0m 2s/step\n"
     ]
    },
    {
     "name": "stderr",
     "output_type": "stream",
     "text": [
      "Extracting Features:  50%|████████████████████████████████████                                    | 4/8 [00:08<00:08,  2.02s/it]"
     ]
    },
    {
     "name": "stdout",
     "output_type": "stream",
     "text": [
      "\u001b[1m1/1\u001b[0m \u001b[32m━━━━━━━━━━━━━━━━━━━━\u001b[0m\u001b[37m\u001b[0m \u001b[1m2s\u001b[0m 2s/step\n"
     ]
    },
    {
     "name": "stderr",
     "output_type": "stream",
     "text": [
      "Extracting Features:  62%|█████████████████████████████████████████████                           | 5/8 [00:10<00:06,  2.11s/it]"
     ]
    },
    {
     "name": "stdout",
     "output_type": "stream",
     "text": [
      "\u001b[1m1/1\u001b[0m \u001b[32m━━━━━━━━━━━━━━━━━━━━\u001b[0m\u001b[37m\u001b[0m \u001b[1m2s\u001b[0m 2s/step\n"
     ]
    },
    {
     "name": "stderr",
     "output_type": "stream",
     "text": [
      "Extracting Features:  75%|██████████████████████████████████████████████████████                  | 6/8 [00:12<00:04,  2.23s/it]"
     ]
    },
    {
     "name": "stdout",
     "output_type": "stream",
     "text": [
      "\u001b[1m1/1\u001b[0m \u001b[32m━━━━━━━━━━━━━━━━━━━━\u001b[0m\u001b[37m\u001b[0m \u001b[1m2s\u001b[0m 2s/step\n"
     ]
    },
    {
     "name": "stderr",
     "output_type": "stream",
     "text": [
      "Extracting Features:  88%|███████████████████████████████████████████████████████████████         | 7/8 [00:15<00:02,  2.31s/it]"
     ]
    },
    {
     "name": "stdout",
     "output_type": "stream",
     "text": [
      "\u001b[1m1/1\u001b[0m \u001b[32m━━━━━━━━━━━━━━━━━━━━\u001b[0m\u001b[37m\u001b[0m \u001b[1m2s\u001b[0m 2s/step\n"
     ]
    },
    {
     "name": "stderr",
     "output_type": "stream",
     "text": [
      "Extracting Features:  88%|███████████████████████████████████████████████████████████████         | 7/8 [00:17<00:02,  2.48s/it]\n"
     ]
    }
   ],
   "source": [
    "# Extract features for training and validation datasets\n",
    "train_features, train_labels = extract_features_with_gap(train_generator, model)\n",
    "valid_features, valid_labels = extract_features_with_gap(valid_generator, model)"
   ]
  },
  {
   "cell_type": "code",
   "execution_count": 26,
   "id": "fca54df1",
   "metadata": {},
   "outputs": [],
   "source": [
    "# Combine train and validation data for clustering\n",
    "all_features = np.vstack((train_features, valid_features))\n",
    "all_labels = np.argmax(np.vstack((train_labels, valid_labels)), axis=1)"
   ]
  },
  {
   "cell_type": "code",
   "execution_count": null,
   "id": "094b4f10",
   "metadata": {},
   "outputs": [
    {
     "name": "stdout",
     "output_type": "stream",
     "text": [
      "Reduced shape: (1491, 50)\n"
     ]
    }
   ],
   "source": [
    "# ---------- PCA ----------\n",
    "def pca_scratch(X, n_components):\n",
    "    # Step 1: Center the data (subtract mean)\n",
    "    X_centered = X - np.mean(X, axis=0)\n",
    "    \n",
    "    # Step 2: Compute covariance matrix\n",
    "    cov_matrix = np.cov(X_centered, rowvar=False)\n",
    "    \n",
    "    # Step 3: Eigen decomposition\n",
    "    eigenvalues, eigenvectors = np.linalg.eigh(cov_matrix)\n",
    "    \n",
    "    # Step 4: Sort eigenvalues & eigenvectors (descending order)\n",
    "    sorted_idx = np.argsort(eigenvalues)[::-1]\n",
    "    eigenvalues = eigenvalues[sorted_idx]\n",
    "    eigenvectors = eigenvectors[:, sorted_idx]\n",
    "    \n",
    "    # Step 5: Select top n_components\n",
    "    eigenvectors = eigenvectors[:, :n_components]\n",
    "    \n",
    "    # Step 6: Transform the data\n",
    "    X_reduced = np.dot(X_centered, eigenvectors)\n",
    "    \n",
    "    return X_reduced, eigenvalues[:n_components], eigenvectors\n",
    "\n",
    "reduced_features, eig_vals, eig_vecs = pca_scratch(all_features, n_components=50)\n",
    "\n",
    "print(\"Reduced shape:\", reduced_features.shape)"
   ]
  },
  {
   "cell_type": "code",
   "execution_count": null,
   "id": "b14b0e52",
   "metadata": {},
   "outputs": [],
   "source": [
    "import numpy as np\n",
    "\n",
    "# ----------------- KMeans -----------------\n",
    "class KMeansScratch:\n",
    "    def __init__(self, n_clusters=3, max_iters=300, n_init=10, random_state=None):\n",
    "        self.n_clusters = n_clusters\n",
    "        self.max_iters = max_iters\n",
    "        self.n_init = n_init\n",
    "        self.random_state = random_state\n",
    "        self.centroids = None\n",
    "        self.labels_ = None\n",
    "\n",
    "    def _init_centroids_kmeanspp(self, X):\n",
    "        np.random.seed(self.random_state)\n",
    "        n_samples = X.shape[0]\n",
    "        \n",
    "        centroids = []\n",
    "        # 1. Choose first centroid randomly\n",
    "        first_idx = np.random.randint(n_samples)\n",
    "        centroids.append(X[first_idx])\n",
    "        \n",
    "        # 2. Choose remaining centroids\n",
    "        for _ in range(1, self.n_clusters):\n",
    "            # Compute distances to nearest centroid\n",
    "            dist_sq = np.min([np.sum((X - c) ** 2, axis=1) for c in centroids], axis=0)\n",
    "            probs = dist_sq / np.sum(dist_sq)\n",
    "            next_idx = np.random.choice(n_samples, p=probs)\n",
    "            centroids.append(X[next_idx])\n",
    "        \n",
    "        return np.array(centroids)\n",
    "\n",
    "    def fit(self, X):\n",
    "        best_inertia = float(\"inf\")\n",
    "        best_centroids = None\n",
    "        best_labels = None\n",
    "\n",
    "        for _ in range(self.n_init):\n",
    "            centroids = self._init_centroids_kmeanspp(X)\n",
    "            for _ in range(self.max_iters):\n",
    "                # Assign points to nearest centroid\n",
    "                distances = np.linalg.norm(X[:, np.newaxis] - centroids, axis=2)\n",
    "                labels = np.argmin(distances, axis=1)\n",
    "\n",
    "                # Compute new centroids\n",
    "                new_centroids = np.array([X[labels == j].mean(axis=0) if np.any(labels == j) else centroids[j]\n",
    "                                          for j in range(self.n_clusters)])\n",
    "\n",
    "                # Stop if converged\n",
    "                if np.allclose(centroids, new_centroids, atol=1e-6):\n",
    "                    break\n",
    "                centroids = new_centroids\n",
    "\n",
    "            # Compute inertia (sum of squared distances)\n",
    "            inertia = np.sum((X - centroids[labels]) ** 2)\n",
    "\n",
    "            # Keep the best run\n",
    "            if inertia < best_inertia:\n",
    "                best_inertia = inertia\n",
    "                best_centroids = centroids\n",
    "                best_labels = labels\n",
    "\n",
    "        self.centroids = best_centroids\n",
    "        self.labels_ = best_labels\n",
    "        return self\n",
    "\n",
    "num_clusters = len(class_indices)  # number of classes\n",
    "\n",
    "kmeans = KMeansScratch(n_clusters=num_clusters, n_init=10, random_state=42)\n",
    "kmeans.fit(reduced_features)\n",
    "\n",
    "cluster_labels = kmeans.labels_\n",
    "centroids = kmeans.centroids"
   ]
  },
  {
   "cell_type": "code",
   "execution_count": null,
   "id": "94a25965",
   "metadata": {},
   "outputs": [
    {
     "name": "stdout",
     "output_type": "stream",
     "text": [
      "Adjusted Rand Index (scratch): 0.1291\n",
      "Silhouette Score (scratch): 0.0766\n"
     ]
    }
   ],
   "source": [
    "# ---------- Adjusted Rand Index ----------\n",
    "def adjusted_rand_index_scratch(labels_true, labels_pred):\n",
    "    n = len(labels_true)\n",
    "    contingency = {}\n",
    "    \n",
    "    # Build contingency table\n",
    "    for i in range(n):\n",
    "        contingency.setdefault(labels_true[i], {})\n",
    "        contingency[labels_true[i]].setdefault(labels_pred[i], 0)\n",
    "        contingency[labels_true[i]][labels_pred[i]] += 1\n",
    "    \n",
    "    # Row & column sums\n",
    "    sum_comb_c = 0\n",
    "    sum_comb_k = 0\n",
    "    sum_comb = 0\n",
    "    nC2 = comb(n, 2)\n",
    "    \n",
    "    for row in contingency.values():\n",
    "        row_sum = sum(row.values())\n",
    "        sum_comb_c += comb(row_sum, 2)\n",
    "        for val in row.values():\n",
    "            sum_comb += comb(val, 2)\n",
    "    for j in set(labels_pred):\n",
    "        col_sum = sum(contingency.get(i, {}).get(j, 0) for i in contingency)\n",
    "        sum_comb_k += comb(col_sum, 2)\n",
    "    \n",
    "    expected_index = sum_comb_c * sum_comb_k / nC2\n",
    "    max_index = (sum_comb_c + sum_comb_k) / 2\n",
    "    return (sum_comb - expected_index) / (max_index - expected_index)\n",
    "\n",
    "# ---------- Silhouette Score ----------\n",
    "def silhouette_score_scratch(X, labels):\n",
    "    n = len(X)\n",
    "    unique_clusters = np.unique(labels)\n",
    "    silhouettes = []\n",
    "    \n",
    "    for i in range(n):\n",
    "        same_cluster = X[labels == labels[i]]\n",
    "        other_clusters = [X[labels == c] for c in unique_clusters if c != labels[i]]\n",
    "        \n",
    "        # a(i): average distance to same cluster\n",
    "        a = np.mean([np.linalg.norm(X[i] - p) for p in same_cluster if not np.array_equal(p, X[i])]) if len(same_cluster) > 1 else 0\n",
    "        \n",
    "        # b(i): min average distance to other clusters\n",
    "        b = np.min([np.mean([np.linalg.norm(X[i] - p) for p in cluster]) for cluster in other_clusters])\n",
    "        \n",
    "        silhouettes.append((b - a) / max(a, b))\n",
    "    \n",
    "    return np.mean(silhouettes)\n",
    "\n",
    "# ---------- Evaluation ----------\n",
    "ari_score = adjusted_rand_index_scratch(all_labels, cluster_labels)\n",
    "silhouette_avg = silhouette_score_scratch(reduced_features, cluster_labels)\n",
    "\n",
    "print(f\"Adjusted Rand Index (scratch): {ari_score:.4f}\")\n",
    "print(f\"Silhouette Score (scratch): {silhouette_avg:.4f}\")"
   ]
  },
  {
   "cell_type": "code",
   "execution_count": null,
   "id": "3ee342ab",
   "metadata": {},
   "outputs": [
    {
     "name": "stdout",
     "output_type": "stream",
     "text": [
      "Silhouette Score (manual): 0.07658092088106433\n",
      "Calinski-Harabasz Score (manual): 126.33997097212597\n",
      "Davies-Bouldin Index (manual): 2.834556957468612\n"
     ]
    }
   ],
   "source": [
    "def silhouette_score_manual(X, labels):\n",
    "    n_samples = X.shape[0]\n",
    "    unique_labels = np.unique(labels)\n",
    "    distances = cdist(X, X, metric='euclidean')\n",
    "    \n",
    "    silhouettes = []\n",
    "    for i in range(n_samples):\n",
    "        own_cluster = labels[i]\n",
    "        \n",
    "        # Intra-cluster distances\n",
    "        mask_same = labels == own_cluster\n",
    "        a_i = np.mean(distances[i, mask_same][distances[i, mask_same] > 0]) if np.sum(mask_same) > 1 else 0\n",
    "        \n",
    "        # Nearest-cluster distance\n",
    "        b_i = np.inf\n",
    "        for lbl in unique_labels:\n",
    "            if lbl == own_cluster:\n",
    "                continue\n",
    "            mask_other = labels == lbl\n",
    "            b_i = min(b_i, np.mean(distances[i, mask_other]))\n",
    "        \n",
    "        # Silhouette for point i\n",
    "        s_i = (b_i - a_i) / max(a_i, b_i) if max(a_i, b_i) > 0 else 0\n",
    "        silhouettes.append(s_i)\n",
    "    \n",
    "    return np.mean(silhouettes)\n",
    "\n",
    "def calinski_harabasz_manual(X, labels):\n",
    "    n_samples, n_features = X.shape\n",
    "    unique_labels = np.unique(labels)\n",
    "    k = len(unique_labels)\n",
    "\n",
    "    overall_mean = np.mean(X, axis=0)\n",
    "\n",
    "    # Between-cluster and within-cluster scatter\n",
    "    B, W = 0, 0\n",
    "    for lbl in unique_labels:\n",
    "        cluster_points = X[labels == lbl]\n",
    "        n_cluster = cluster_points.shape[0]\n",
    "        cluster_mean = np.mean(cluster_points, axis=0)\n",
    "\n",
    "        # Between-cluster\n",
    "        B += n_cluster * np.sum((cluster_mean - overall_mean) ** 2)\n",
    "\n",
    "        # Within-cluster\n",
    "        W += np.sum((cluster_points - cluster_mean) ** 2)\n",
    "\n",
    "    return (B / (k - 1)) / (W / (n_samples - k))\n",
    "\n",
    "\n",
    "def davies_bouldin_manual(X, labels):\n",
    "    unique_labels = np.unique(labels)\n",
    "    k = len(unique_labels)\n",
    "    \n",
    "    cluster_means = []\n",
    "    S = []  # intra-cluster distances\n",
    "\n",
    "    # Compute cluster means & intra-cluster scatter\n",
    "    for lbl in unique_labels:\n",
    "        cluster_points = X[labels == lbl]\n",
    "        cluster_mean = np.mean(cluster_points, axis=0)\n",
    "        cluster_means.append(cluster_mean)\n",
    "        S.append(np.mean(np.linalg.norm(cluster_points - cluster_mean, axis=1)))\n",
    "    \n",
    "    cluster_means = np.array(cluster_means)\n",
    "    S = np.array(S)\n",
    "\n",
    "    # Compute DB index\n",
    "    db_indexes = []\n",
    "    for i in range(k):\n",
    "        max_ratio = -np.inf\n",
    "        for j in range(k):\n",
    "            if i != j:\n",
    "                M_ij = np.linalg.norm(cluster_means[i] - cluster_means[j])\n",
    "                ratio = (S[i] + S[j]) / M_ij if M_ij > 0 else np.inf\n",
    "                max_ratio = max(max_ratio, ratio)\n",
    "        db_indexes.append(max_ratio)\n",
    "    \n",
    "    return np.mean(db_indexes)\n",
    "\n",
    "\n",
    "# cluster_labels = labels from KMeans\n",
    "silhouette_avg = silhouette_score_manual(reduced_features, cluster_labels)\n",
    "calinski_harabasz = calinski_harabasz_manual(reduced_features, cluster_labels)\n",
    "davies_bouldin = davies_bouldin_manual(reduced_features, cluster_labels)\n",
    "\n",
    "print(\"Silhouette Score (manual):\", silhouette_avg)\n",
    "print(\"Calinski-Harabasz Score (manual):\", calinski_harabasz)\n",
    "print(\"Davies-Bouldin Index (manual):\", davies_bouldin)"
   ]
  },
  {
   "cell_type": "code",
   "execution_count": 31,
   "id": "d2dd41c8",
   "metadata": {},
   "outputs": [],
   "source": [
    "# Visualize clusters using t-SNE\n",
    "from sklearn.manifold import TSNE\n",
    "tsne = TSNE(n_components=2, random_state=42)\n",
    "tsne_features = tsne.fit_transform(reduced_features)"
   ]
  },
  {
   "cell_type": "code",
   "execution_count": null,
   "id": "8ed1ee9a",
   "metadata": {},
   "outputs": [
    {
     "data": {
      "image/png": "[encoded data removed]",
      "text/plain": [
       "<Figure size 1000x600 with 1 Axes>"
      ]
     },
     "metadata": {},
     "output_type": "display_data"
    }
   ],
   "source": [
    "plt.figure(figsize=(10, 6))\n",
    "for cluster_id in range(num_clusters):\n",
    "    indices = np.where(cluster_labels == cluster_id)\n",
    "    plt.scatter(tsne_features[indices, 0], tsne_features[indices, 1], label=f\"Cluster {cluster_id}\")\n",
    "\n",
    "plt.title(\"K-Means Clusters Visualized with t-SNE\")\n",
    "plt.xlabel(\"t-SNE Component 1\")\n",
    "plt.ylabel(\"t-SNE Component 2\")\n",
    "plt.legend()\n",
    "plt.show()"
   ]
  }
 ],
 "metadata": {
  "kernelspec": {
   "display_name": "Python 3 (ipykernel)",
   "language": "python",
   "name": "python3"
  },
  "language_info": {
   "codemirror_mode": {
    "name": "ipython",
    "version": 3
   },
   "file_extension": ".py",
   "mimetype": "text/x-python",
   "name": "python",
   "nbconvert_exporter": "python",
   "pygments_lexer": "ipython3",
   "version": "3.13.2"
  }
 },
 "nbformat": 4,
 "nbformat_minor": 5
}
